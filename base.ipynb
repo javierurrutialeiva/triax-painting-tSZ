{
 "cells": [
  {
   "cell_type": "code",
   "execution_count": null,
   "id": "fb5f3402-781c-43dd-b064-152ce536838f",
   "metadata": {
    "scrolled": true
   },
   "outputs": [],
   "source": [
    "using Pkg\n",
    "# Pkg.add(\"Plots\")\n",
    "# Pkg.add(\"Interpolations\")\n",
    "# Pkg.add(\"QuadGK\")\n",
    "# Pkg.add(\"Unitful\")\n",
    "# Pkg.add(\"UnitfulAstro\")\n",
    "# Pkg.add(\"Random\")\n",
    "# Pkg.add(\"SpecialFunctions\")\n",
    "# Pkg.add(\"Roots\")\n",
    "# Pkg.add(\"Trapz\")\n",
    "# Pkg.add(\"PhysicalConstants\")\n",
    "# Pkg.add(\"Cosmology\")\n",
    "# Pkg.add(\"DataInterpolations\")"
   ]
  },
  {
   "cell_type": "code",
   "execution_count": 41,
   "id": "835d9db5-8ced-4985-988f-21fcbaa292d3",
   "metadata": {},
   "outputs": [],
   "source": [
    "using Plots \n",
    "using Interpolations\n",
    "using QuadGK\n",
    "using Unitful, UnitfulAstro\n",
    "using Random\n",
    "using SpecialFunctions\n",
    "using Roots\n",
    "using Trapz\n",
    "using PhysicalConstants\n",
    "using Cosmology\n",
    "import DataInterpolations "
   ]
  },
  {
   "cell_type": "code",
   "execution_count": 42,
   "id": "37fd6407-aafd-4fd1-8376-67874c1ce35f",
   "metadata": {},
   "outputs": [
    {
     "data": {
      "text/plain": [
       "8.125531675591423e-16 s^2 kg^-1"
      ]
     },
     "execution_count": 42,
     "metadata": {},
     "output_type": "execute_result"
    }
   ],
   "source": [
    "import PhysicalConstants.CODATA2018 as constants\n",
    "const M_sun = 1.98847e30u\"kg\"\n",
    "const T_cmb =  2.725 * u\"K\"\n",
    "const P_e_factor = constants.σ_e / (constants.m_e * constants.c_0^2)"
   ]
  },
  {
   "cell_type": "code",
   "execution_count": 43,
   "id": "a35f35cb-b7cb-43da-b648-acd5e64e579c",
   "metadata": {},
   "outputs": [],
   "source": [
    "abstract type AbstractProfileWorkspace{T} end\n",
    "abstract type AbstractProfile{T} end\n",
    "abstract type AbstractGNFW{T} <: AbstractProfile{T} end\n",
    "abstract type AbstractInterpolatorProfile{T} <: AbstractProfile{T} end"
   ]
  },
  {
   "cell_type": "code",
   "execution_count": 72,
   "id": "5526dfe3-abb7-46cd-afc2-2a05533f2c88",
   "metadata": {},
   "outputs": [
    {
     "data": {
      "text/plain": [
       "get_coords (generic function with 1 method)"
      ]
     },
     "execution_count": 72,
     "metadata": {},
     "output_type": "execute_result"
    }
   ],
   "source": [
    "function get_cosmology(::Type{T}; h=0.69,\n",
    "                   Neff=3.04,\n",
    "                   OmegaK=0.0,\n",
    "                   OmegaM=0.29,\n",
    "                   OmegaR=nothing,\n",
    "                   Tcmb=2.7255,\n",
    "                   w0=-1,\n",
    "                   wa=0) where T\n",
    "\n",
    "    if OmegaR === nothing\n",
    "        OmegaG = 4.48131e-7*Tcmb^4/h^2\n",
    "        OmegaN = Neff*OmegaG*(7/8)*(4/11)^(4/3)\n",
    "        OmegaR = OmegaG + OmegaN\n",
    "    end\n",
    "\n",
    "    OmegaL = 1 - OmegaK - OmegaM - OmegaR\n",
    "\n",
    "    if !(w0 == -1 && wa == 0)\n",
    "        return Cosmology.WCDM{T}(h, OmegaK, OmegaL, OmegaM, OmegaR, w0, wa)\n",
    "    end\n",
    "\n",
    "    if OmegaK < 0\n",
    "        return Cosmology.ClosedLCDM{T}(h, OmegaK, OmegaL, OmegaM, OmegaR)\n",
    "    elseif OmegaK > 0\n",
    "        return Cosmology.OpenLCDM{T}(h, OmegaK, OmegaL, OmegaM, OmegaR)\n",
    "    else\n",
    "        return Cosmology.FlatLCDM{T}(h, OmegaL, OmegaM, OmegaR)\n",
    "    end\n",
    "end\n",
    "get_cosmology(; h=0.69, Neff=3.04, OmegaK=0.0, OmegaM=0.29, OmegaR=nothing, Tcmb=2.7255, \n",
    "    w0=-1, wa=0) = get_cosmology(Float32; h=h, Neff=Neff, OmegaK=OmegaK, \n",
    "        OmegaM=OmegaM, OmegaR=OmegaR, Tcmb=Tcmb, w0=w0, wa=wa)\n",
    "\n",
    "\n",
    "function ρ_crit(model, z)\n",
    "    H_z = H(model.cosmo, z)\n",
    "    return uconvert(u\"kg/m^3\", 3H_z^2 / (8π * constants.G))\n",
    "end\n",
    "\n",
    "function R_Δ(model, M_Δ, z, Δ=200)\n",
    "    return ∛(M_Δ / (4π/3 * Δ * ρ_crit(model, z)))\n",
    "end\n",
    "\n",
    "function angular_size(model::AbstractProfile{T}, physical_size, z) where T\n",
    "    d_A = angular_diameter_dist(model.cosmo, z)\n",
    "\n",
    "    # convert both to the same units and strip units for atan\n",
    "    phys_siz_unitless = T(ustrip(uconvert(unit(d_A), physical_size)))\n",
    "    d_A_unitless = T(ustrip(d_A))\n",
    "    return atan(phys_siz_unitless, d_A_unitless)\n",
    "end\n",
    "\n",
    "function build_z2r_interpolator(min_z::T, max_z::T,\n",
    "    cosmo::Cosmology.AbstractCosmology; n_bins=2000) where T\n",
    "\n",
    "    zrange = LinRange(min_z, max_z, n_bins)\n",
    "    rrange = zero(zrange)\n",
    "    for i in 1:n_bins\n",
    "        rrange[i] = ustrip(T, u\"Mpc\",\n",
    "            Cosmology.comoving_radial_dist(u\"Mpc\", cosmo, zrange[i]))\n",
    "    end\n",
    "    z2r = DataInterpolations.LinearInterpolation(rrange, zrange);\n",
    "    return z2r\n",
    "end\n",
    "\n",
    "function δαz2gnom(cosmo::Cosmology.AbstractCosmology, z2r::DataInterpolations.LinearInterpolation,\n",
    "    δ, α, z; δ₀ = 0., α₀ = 0., ΔZ = 0.05, NZ::Int = 100)\n",
    "    χ₀ = z2r(z)\n",
    "    Dₐ = angular_diameter_dist(cosmo,z)\n",
    "    χ₁, χ₂ = z2r(z - ΔZ), z2r(z + ΔZ)\n",
    "    Z̃ = collect(range(χ₁ - χ₀, χ₂ - χ₀, length=NZ))\n",
    "    C̃ = cos(δ₀)*cos(δ)*cos(α - α₀) + sin(δ)*sin(δ₀)\n",
    "    X̃ = Dₐ*(cos(δ)*sin(α - α₀))/C̃\n",
    "    Ỹ = Dₐ*(sin(δ₀)*cos(δ)*cos(α - α₀) - cos(δ₀)*sin(δ))/C̃\n",
    "    return X̃, Ỹ, Z̃\n",
    "end\n",
    "\n",
    "function rotation_matrix(ϕ, θ, ψ)\n",
    "    R_z1 = [cos(ϕ) -sin(ϕ) 0;\n",
    "            sin(ϕ)  cos(ϕ) 0;\n",
    "            0       0      1]\n",
    "    R_x = [1  0         0;\n",
    "           0  cos(θ) -sin(θ);\n",
    "           0  sin(θ)  cos(θ)]\n",
    "    R_z2 = [cos(ψ) -sin(ψ) 0;\n",
    "            sin(ψ)  cos(ψ) 0;\n",
    "            0       0      1]\n",
    "    return R_z1 * R_x * R_z2\n",
    "end\n",
    "\n",
    "function get_coords(δ, α, z, δ₀, α₀, \n",
    "        cosmo::Cosmology.AbstractCosmology; \n",
    "        ϕ = 0, θ = 0, ψ = 0, ϵ₁ = 0, ϵ₂ = 0,\n",
    "        z2r::Union{DataInterpolations.LinearInterpolation, Nothing} = nothing)\n",
    "    R_rot = rotation_matrix(ϕ, θ, ψ)\n",
    "    if z2r === nothing\n",
    "        z2r = build_z2r_interpolator(1e-10, 5., cosmo)\n",
    "    end\n",
    "    x,y,z = δαz2gnom(cosmo, z2r, δ, α, z, δ₀, α₀)\n",
    "\n",
    "    v⃗ = coords = [vec(x); vec(y); vec(z)]\n",
    "    v⃗′ = R_rot * v⃗\n",
    "    x′ = v⃗[1, :]\n",
    "    y′ = v⃗[2, :]\n",
    "    z′ = v⃗[3, :]\n",
    "    R = @. sqrt(x′^2 + y′^2/(1 - ϵ₁)^2 + z′^2/(1 - ϵ₂)^2)\n",
    "    return R\n",
    "end"
   ]
  },
  {
   "cell_type": "code",
   "execution_count": 73,
   "id": "f1177291-5343-4a25-840a-d78ae6b98f3e",
   "metadata": {},
   "outputs": [
    {
     "ename": "LoadError",
     "evalue": "MethodError: no method matching δαz2gnom(::Cosmology.FlatLCDM{Float64}, ::DataInterpolations.LinearInterpolation{Vector{Float64}, LinRange{Float64, Int64}, Vector{Float64}, Vector{Float64}, Float64}, ::Vector{Float64}, ::Vector{Float64}, ::Float64, ::Float64, ::Float64)\nThe function `δαz2gnom` exists, but no method is defined for this combination of argument types.\n\n\u001b[0mClosest candidates are:\n\u001b[0m  δαz2gnom(::Cosmology.AbstractCosmology, ::DataInterpolations.LinearInterpolation, ::Any, ::Any, ::Any; δ₀, α₀, ΔZ, NZ)\n\u001b[0m\u001b[90m   @\u001b[39m \u001b[32mMain\u001b[39m \u001b[90m\u001b[4mIn[72]:66\u001b[24m\u001b[39m\n\u001b[0m  δαz2gnom(::Cosmology.AbstractCosmology, ::DataInterpolations.LinearInterpolation, ::T, ::T, \u001b[91m::T\u001b[39m; δ₀, α₀, ΔZ, NZ) where T\n\u001b[0m\u001b[90m   @\u001b[39m \u001b[32mMain\u001b[39m \u001b[90m\u001b[4mIn[66]:66\u001b[24m\u001b[39m\n",
     "output_type": "error",
     "traceback": [
      "MethodError: no method matching δαz2gnom(::Cosmology.FlatLCDM{Float64}, ::DataInterpolations.LinearInterpolation{Vector{Float64}, LinRange{Float64, Int64}, Vector{Float64}, Vector{Float64}, Float64}, ::Vector{Float64}, ::Vector{Float64}, ::Float64, ::Float64, ::Float64)\nThe function `δαz2gnom` exists, but no method is defined for this combination of argument types.\n\n\u001b[0mClosest candidates are:\n\u001b[0m  δαz2gnom(::Cosmology.AbstractCosmology, ::DataInterpolations.LinearInterpolation, ::Any, ::Any, ::Any; δ₀, α₀, ΔZ, NZ)\n\u001b[0m\u001b[90m   @\u001b[39m \u001b[32mMain\u001b[39m \u001b[90m\u001b[4mIn[72]:66\u001b[24m\u001b[39m\n\u001b[0m  δαz2gnom(::Cosmology.AbstractCosmology, ::DataInterpolations.LinearInterpolation, ::T, ::T, \u001b[91m::T\u001b[39m; δ₀, α₀, ΔZ, NZ) where T\n\u001b[0m\u001b[90m   @\u001b[39m \u001b[32mMain\u001b[39m \u001b[90m\u001b[4mIn[66]:66\u001b[24m\u001b[39m\n",
      "",
      "Stacktrace:",
      " [1] get_coords(δ::Vector{Float64}, α::Vector{Float64}, z::Float64, δ₀::Float64, α₀::Float64, cosmo::Cosmology.FlatLCDM{Float64}; ϕ::Float64, θ::Float64, ψ::Float64, ϵ₁::Int64, ϵ₂::Int64, z2r::DataInterpolations.LinearInterpolation{Vector{Float64}, LinRange{Float64, Int64}, Vector{Float64}, Vector{Float64}, Float64})",
      "   @ Main ./In[72]:99",
      " [2] top-level scope",
      "   @ In[73]:8"
     ]
    }
   ],
   "source": [
    "δ = [deg2rad(v) for v in collect(range(150., 170., length = 10))]\n",
    "α = [deg2rad(v) for v in collect(range(-5., -1., length = 10))]\n",
    "δ₀ = deg2rad(155.)\n",
    "α₀ = deg2rad(-2.)\n",
    "z = 0.35\n",
    "cosmo = cosmology()\n",
    "z2r_interpolator = build_z2r_interpolator(1e-5, 5., cosmo)\n",
    "get_coords(δ, α, z, δ₀, α₀,cosmo; ϕ = deg2rad(45), θ = 0., ψ = 0., z2r = z2r_interpolator)"
   ]
  },
  {
   "cell_type": "code",
   "execution_count": null,
   "id": "7d86c8fb-05a4-42de-9500-4fff1261b1d0",
   "metadata": {},
   "outputs": [],
   "source": []
  },
  {
   "cell_type": "code",
   "execution_count": null,
   "id": "03b69b7f-99a0-4283-8a08-e601cda51be2",
   "metadata": {},
   "outputs": [],
   "source": []
  }
 ],
 "metadata": {
  "kernelspec": {
   "display_name": "Julia 1.11.4",
   "language": "julia",
   "name": "julia-1.11"
  },
  "language_info": {
   "file_extension": ".jl",
   "mimetype": "application/julia",
   "name": "julia",
   "version": "1.11.4"
  }
 },
 "nbformat": 4,
 "nbformat_minor": 5
}
